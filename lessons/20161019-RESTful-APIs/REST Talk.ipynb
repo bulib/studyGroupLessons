{
 "cells": [
  {
   "cell_type": "code",
   "execution_count": 1,
   "metadata": {
    "collapsed": true
   },
   "outputs": [],
   "source": [
    "import requests\n",
    "\n",
    "_get_glycan_base_url = \"https://api.glytoucan.org/glycans/{accession}\"\n",
    "\n",
    "\n",
    "def get_glycan(accession, response_format='json'):\n",
    "    headers = {\n",
    "      \"accept\": \"application/{response_format}\".format(response_format=response_format)\n",
    "    }\n",
    "    prepared_url = _get_glycan_base_url.format(accession=accession)\n",
    "    response = requests.get(prepared_url, headers=headers)\n",
    "    return response\n",
    "\n"
   ]
  },
  {
   "cell_type": "code",
   "execution_count": 3,
   "metadata": {
    "collapsed": false
   },
   "outputs": [],
   "source": [
    "resp = get_glycan(\"G54701OK\")"
   ]
  },
  {
   "cell_type": "code",
   "execution_count": 9,
   "metadata": {
    "collapsed": false
   },
   "outputs": [],
   "source": [
    "uniprot_url = \"http://www.uniprot.org/uniprot/P13611.xml\""
   ]
  },
  {
   "cell_type": "code",
   "execution_count": 10,
   "metadata": {
    "collapsed": true
   },
   "outputs": [],
   "source": [
    "from lxml import etree"
   ]
  },
  {
   "cell_type": "code",
   "execution_count": 11,
   "metadata": {
    "collapsed": true
   },
   "outputs": [],
   "source": [
    "tree = etree.parse(uniprot_url)"
   ]
  },
  {
   "cell_type": "code",
   "execution_count": 13,
   "metadata": {
    "collapsed": false
   },
   "outputs": [],
   "source": [
    "root = tree.getroot()"
   ]
  },
  {
   "cell_type": "code",
   "execution_count": 14,
   "metadata": {
    "collapsed": false
   },
   "outputs": [
    {
     "data": {
      "text/plain": [
       "<Element {http://uniprot.org/uniprot}uniprot at 0x4357c48>"
      ]
     },
     "execution_count": 14,
     "metadata": {},
     "output_type": "execute_result"
    }
   ],
   "source": [
    "root"
   ]
  },
  {
   "cell_type": "code",
   "execution_count": 18,
   "metadata": {
    "collapsed": false
   },
   "outputs": [
    {
     "data": {
      "text/plain": [
       "'\\nCopyrighted by the UniProt Consortium, see http://www.uniprot.org/terms\\nDistributed under the Creative Commons Attribution-NoDerivs License\\n'"
      ]
     },
     "execution_count": 18,
     "metadata": {},
     "output_type": "execute_result"
    }
   ],
   "source": [
    "root[1].text"
   ]
  },
  {
   "cell_type": "code",
   "execution_count": 28,
   "metadata": {
    "collapsed": false
   },
   "outputs": [
    {
     "name": "stdout",
     "output_type": "stream",
     "text": [
      "{'precursor': 'true', 'checksum': 'D174A1BBB8304FEC', 'modified': '1997-11-01', 'length': '3396', 'version': '3', 'mass': '372820'}\n",
      "\n",
      "MFINIKSILWMCSTLIVTHALHKVKVGKSPPVRGSLSGKVSLPCHFSTMPTLPPSYNTSE\n",
      "FLRIKWSKIEVDKNGKDLKETTVLVAQNGNIKIGQDYKGRVSVPTHPEAVGDASLTVVKL\n",
      "LASDAGLYRCDVMYGIEDTQDTVSLTVDGVVFHYRAATSRYTLNFEAAQKACLDVGAVIA\n",
      "TPEQLFAAYEDGFEQCDAGWLADQTVRYPIRAPRVGCYGDKMGKAGVRTYGFRSPQETYD\n",
      "VYCYVDHLDGDVFHLTVPSKFTFEEAAKECENQDARLATVGELQAAWRNGFDQCDYGWLS\n",
      "DASVRHPVTVARAQCGGGLLGVRTLYRFENQTGFPPPDSRFDAYCFKPKEATTIDLSILA\n",
      "ETASPSLSKEPQMVSDRTTPIIPLVDELPVIPTEFPPVGNIVSFEQKATVQPQAITDSLA\n",
      "TKLPTPTGSTKKPWDMDDYSPSASGPLGKLDISEIKEEVLQSTTGVSHYATDSWDGVVED\n",
      "KQTQESVTQIEQIEVGPLVTSMEILKHIPSKEFPVTETPLVTARMILESKTEKKMVSTVS\n",
      "ELVTTGHYGFTLGEEDDEDRTLTVGSDESTLIFDQIPEVITVSKTSEDTIHTHLEDLESV\n",
      "SASTTVSPLIMPDNNGSSMDDWEERQTSGRITEEFLGKYLSTTPFPSQHRTEIELFPYSG\n",
      "DKILVEGISTVIYPSLQTEMTHRRERTETLIPEMRTDTYTDEIQEEITKSPFMGKTEEEV\n",
      "FSGMKLSTSLSEPIHVTESSVEMTKSFDFPTLITKLSAEPTEVRDMEEDFTATPGTTKYD\n",
      "ENITTVLLAHGTLSVEAATVSKWSWDEDNTTSKPLESTEPSASSKLPPALLTTVGMNGKD\n",
      "KDIPSFTEDGADEFTLIPDSTQKQLEEVTDEDIAAHGKFTIRFQPTTSTGIAEKSTLRDS\n",
      "TTEEKVPPITSTEGQVYATMEGSALGEVEDVDLSKPVSTVPQFAHTSEVEGLAFVSYSST\n",
      "QEPTTYVDSSHTIPLSVIPKTDWGVLVPSVPSEDEVLGEPSQDILVIDQTRLEATISPET\n",
      "MRTTKITEGTTQEEFPWKEQTAEKPVPALSSTAWTPKEAVTPLDEQEGDGSAYTVSEDEL\n",
      "LTGSERVPVLETTPVGKIDHSVSYPPGAVTEHKVKTDEVVTLTPRIGPKVSLSPGPEQKY\n",
      "ETEGSSTTGFTSSLSPFSTHITQLMEETTTEKTSLEDIDLGSGLFEKPKATELIEFSTIK\n",
      "VTVPSDITTAFSSVDRLHTTSAFKPSSAITKKPPLIDREPGEETTSDMVIIGESTSHVPP\n",
      "TTLEDIVAKETETDIDREYFTTSSPPATQPTRPPTVEDKEAFGPQALSTPQPPASTKFHP\n",
      "DINVYIIEVRENKTGRMSDLSVIGHPIDSESKEDEPCSEETDPVHDLMAEILPEFPDIIE\n",
      "IDLYHSEENEEEEEECANATDVTTTPSVQYINGKHLVTTVPKDPEAAEARRGQFESVAPS\n",
      "QNFSDSSESDTHPFVIAKTELSTAVQPNESTETTESLEVTWKPETYPETSEHFSGGEPDV\n",
      "FPTVPFHEEFESGTAKKGAESVTERDTEVGHQAHEHTEPVSLFPEESSGEIAIDQESQKI\n",
      "AFARATEVTFGEEVEKSTSVTYTPTIVPSSASAYVSEEEAVTLIGNPWPDDLLSTKESWV\n",
      "EATPRQVVELSGSSSIPITEGSGEAEEDEDTMFTMVTDLSQRNTTDTLITLDTSRIITES\n",
      "FFEVPATTIYPVSEQPSAKVVPTKFVSETDTSEWISSTTVEEKKRKEEEGTTGTASTFEV\n",
      "YSSTQRSDQLILPFELESPNVATSSDSGTRKSFMSLTTPTQSEREMTDSTPVFTETNTLE\n",
      "NLGAQTTEHSSIHQPGVQEGLTTLPRSPASVFMEQGSGEAAADPETTTVSSFSLNVEYAI\n",
      "QAEKEVAGTLSPHVETTFSTEPTGLVLSTVMDRVVAENITQTSREIVISERLGEPNYGAE\n",
      "IRGFSTGFPLEEDFSGDFREYSTVSHPIAKEETVMMEGSGDAAFRDTQTSPSTVPTSVHI\n",
      "SHISDSEGPSSTMVSTSAFPWEEFTSSAEGSGEQLVTVSSSVVPVLPSAVQKFSGTASSI\n",
      "IDEGLGEVGTVNEIDRRSTILPTAEVEGTKAPVEKEEVKVSGTVSTNFPQTIEPAKLWSR\n",
      "QEVNPVRQEIESETTSEEQIQEEKSFESPQNSPATEQTIFDSQTFTETELKTTDYSVLTT\n",
      "KKTYSDDKEMKEEDTSLVNMSTPDPDANGLESYTTLPEATEKSHFFLATALVTESIPAEH\n",
      "VVTDSPIKKEESTKHFPKGMRPTIQESDTELLFSGLGSGEEVLPTLPTESVNFTEVEQIN\n",
      "NTLYPHTSQVESTSSDKIEDFNRMENVAKEVGPLVSQTDIFEGSGSVTSTTLIEILSDTG\n",
      "AEGPTVAPLPFSTDIGHPQNQTVRWAEEIQTSRPQTITEQDSNKNSSTAEINETTTSSTD\n",
      "FLARAYGFEMAKEFVTSAPKPSDLYYEPSGEGSGEVDIVDSFHTSATTQATRQESSTTFV\n",
      "SDGSLEKHPEVPSAKAVTADGFPTVSVMLPLHSEQNKSSPDPTSTLSNTVSYERSTDGSF\n",
      "QDRFREFEDSTLKPNRKKPTENIIIDLDKEDKDLILTITESTILEILPELTSDKNTIIDI\n",
      "DHTKPVYEDILGMQTDIDTEVPSEPHDSNDESNDDSTQVQEIYEAAVNLSLTEETFEGSA\n",
      "DVLASYTQATHDESMTYEDRSQLDHMGFHFTTGIPAPSTETELDVLLPTATSLPIPRKSA\n",
      "TVIPEIEGIKAEAKALDDMFESSTLSDGQAIADQSEIIPTLGQFERTQEEYEDKKHAGPS\n",
      "FQPEFSSGAEEALVDHTPYLSIATTHLMDQSVTEVPDVMEGSNPPYYTDTTLAVSTFAKL\n",
      "SSQTPSSPLTIYSGSEASGHTEIPQPSALPGIDVGSSVMSPQDSFKEIHVNIEATFKPSS\n",
      "EEYLHITEPPSLSPDTKLEPSEDDGKPELLEEMEASPTELIAVEGTEILQDFQNKTDGQV\n",
      "SGEAIKMFPTIKTPEAGTVITTADEIELEGATQWPHSTSASATYGVEAGVVPWLSPQTSE\n",
      "RPTLSSSPEINPETQAALIRGQDSTIAASEQQVAARILDSNDQATVNPVEFNTEVATPPF\n",
      "SLLETSNETDFLIGINEESVEGTAIYLPGPDRCKMNPCLNGGTCYPTETSYVCTCVPGYS\n",
      "GDQCELDFDECHSNPCRNGATCVDGFNTFRCLCLPSYVGALCEQDTETCDYGWHKFQGQC\n",
      "YKYFAHRRTWDAAERECRLQGAHLTSILSHEEQMFVNRVGHDYQWIGLNDKMFEHDFRWT\n",
      "DGSTLQYENWRPNQPDSFFSAGEDCVVIIWHENGQWNDVPCNYHLTYTCKKGTVACGQPP\n",
      "VVENAKTFGKMKPRYEINSLIRYHCKDGFIQRHLPTIRCLGNGRWAIPKITCMNPSAYQR\n",
      "TYSMKYFKNSSSAKDNSINTSKHDHRWSRRWQESRR\n",
      "\n",
      "372589.536876\n"
     ]
    }
   ],
   "source": [
    "from pyteomics import mass\n",
    "for seq in root.findall(\".//{http://uniprot.org/uniprot}sequence\"):\n",
    "    if seq.text:\n",
    "        print seq.attrib\n",
    "        print seq.text\n",
    "        print mass.calculate_mass(seq.text.replace(\"\\n\", \"\"))"
   ]
  },
  {
   "cell_type": "code",
   "execution_count": 29,
   "metadata": {
    "collapsed": true
   },
   "outputs": [],
   "source": [
    "genome_by_org_name = 'http://eutils.ncbi.nlm.nih.gov/entrez/eutils/esearch.fcgi?db=genome&term={org_name}[organism]'"
   ]
  },
  {
   "cell_type": "code",
   "execution_count": 49,
   "metadata": {
    "collapsed": false
   },
   "outputs": [],
   "source": [
    "req = requests.get(genome_by_org_name.format(org_name=\"Homo sapiens\"))"
   ]
  },
  {
   "cell_type": "code",
   "execution_count": 48,
   "metadata": {
    "collapsed": false
   },
   "outputs": [
    {
     "name": "stdout",
     "output_type": "stream",
     "text": [
      "<?xml version=\"1.0\" encoding=\"UTF-8\" ?>\n",
      "<!DOCTYPE eSearchResult PUBLIC \"-//NLM//DTD esearch 20060628//EN\" \"https://eutils.ncbi.nlm.nih.gov/eutils/dtd/20060628/esearch.dtd\">\n",
      "<eSearchResult><Count>1</Count><RetMax>1</RetMax><RetStart>0</RetStart><IdList>\n",
      "<Id>51</Id>\n",
      "</IdList><TranslationSet><Translation>     <From>human[organism]</From>     <To>\"Homo sapiens\"[Organism]</To>    </Translation></TranslationSet><TranslationStack>   <TermSet>    <Term>\"Homo sapiens\"[Organism]</Term>    <Field>Organism</Field>    <Count>1</Count>    <Explode>Y</Explode>   </TermSet>   <OP>GROUP</OP>  </TranslationStack><QueryTranslation>\"Homo sapiens\"[Organism]</QueryTranslation></eSearchResult>\n",
      "\n"
     ]
    }
   ],
   "source": [
    "print req.text"
   ]
  },
  {
   "cell_type": "code",
   "execution_count": null,
   "metadata": {
    "collapsed": true
   },
   "outputs": [],
   "source": []
  }
 ],
 "metadata": {
  "kernelspec": {
   "display_name": "Python 2",
   "language": "python",
   "name": "python2"
  },
  "language_info": {
   "codemirror_mode": {
    "name": "ipython",
    "version": 2
   },
   "file_extension": ".py",
   "mimetype": "text/x-python",
   "name": "python",
   "nbconvert_exporter": "python",
   "pygments_lexer": "ipython2",
   "version": "2.7.11"
  }
 },
 "nbformat": 4,
 "nbformat_minor": 0
}
