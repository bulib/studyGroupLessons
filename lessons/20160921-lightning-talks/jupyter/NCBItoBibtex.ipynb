{
 "cells": [
  {
   "cell_type": "markdown",
   "metadata": {
    "slideshow": {
     "slide_type": "slide"
    }
   },
   "source": [
    "# Jupyter Notebooks\n",
    "\n",
    "By Tom Hohenstein"
   ]
  },
  {
   "cell_type": "markdown",
   "metadata": {
    "slideshow": {
     "slide_type": "subslide"
    }
   },
   "source": [
    "You use Jupyter Notebooks to: \n",
    "\n",
    "+ Execute code \n",
    "+ Document and explain your work using markdown \n",
    "+ Share your work with others \n",
    "+ Present your work\n"
   ]
  },
  {
   "cell_type": "markdown",
   "metadata": {
    "slideshow": {
     "slide_type": "subslide"
    }
   },
   "source": [
    "Let's look at an example... "
   ]
  },
  {
   "cell_type": "code",
   "execution_count": 9,
   "metadata": {
    "collapsed": false,
    "slideshow": {
     "slide_type": "skip"
    }
   },
   "outputs": [
    {
     "name": "stdout",
     "output_type": "stream",
     "text": [
      "the square of 1 is 1\n",
      "the square of 3 is 9\n",
      "the square of 6 is 36\n",
      "the square of 5 is 25\n",
      "the square of 7 is 49\n",
      "the square of 8 is 64\n",
      "the square of 10 is 100\n"
     ]
    }
   ],
   "source": [
    "my_list = [1, 3, 6, 5, 7, 8, 10]\n",
    "for i in my_list: \n",
    "    x = i**2\n",
    "    print(\"the square of \" + str(i) + \" is \" + str(x))"
   ]
  },
  {
   "cell_type": "markdown",
   "metadata": {
    "collapsed": false,
    "slideshow": {
     "slide_type": "slide"
    }
   },
   "source": [
    "## Converting NCBI XML to Bibtex \n",
    "\n"
   ]
  },
  {
   "cell_type": "markdown",
   "metadata": {
    "slideshow": {
     "slide_type": "slide"
    }
   },
   "source": [
    "### Import Modules and Libraries "
   ]
  },
  {
   "cell_type": "code",
   "execution_count": 25,
   "metadata": {
    "collapsed": false,
    "slideshow": {
     "slide_type": "-"
    }
   },
   "outputs": [],
   "source": [
    "# work with xml like json -> https://github.com/martinblech/xmltodict\n",
    "import xmltodict\n",
    "\n",
    "# make simple http requests -> http://docs.python-requests.org/en/master/\n",
    "import requests \n",
    "\n",
    "# work with json -> https://docs.python.org/2/library/json.html\n",
    "import json "
   ]
  },
  {
   "cell_type": "code",
   "execution_count": 27,
   "metadata": {
    "collapsed": false,
    "slideshow": {
     "slide_type": "slide"
    }
   },
   "outputs": [
    {
     "name": "stdout",
     "output_type": "stream",
     "text": [
      "2\n",
      "4\n",
      "6\n",
      "8\n"
     ]
    }
   ],
   "source": [
    "x = [1, 2, 3, 4]\n",
    "for i in x: \n",
    "    print(i * 2)"
   ]
  },
  {
   "cell_type": "markdown",
   "metadata": {
    "slideshow": {
     "slide_type": "slide"
    }
   },
   "source": [
    "### Functions for our work"
   ]
  },
  {
   "cell_type": "markdown",
   "metadata": {
    "slideshow": {
     "slide_type": "subslide"
    }
   },
   "source": [
    "### getDOI \n",
    "\n",
    "getDOI takes an article's title and author to query the Crossref API to obtain a DOI. The function returns the DOI from the first result Crossref gives us. "
   ]
  },
  {
   "cell_type": "code",
   "execution_count": 29,
   "metadata": {
    "collapsed": false,
    "scrolled": true,
    "slideshow": {
     "slide_type": "-"
    }
   },
   "outputs": [],
   "source": [
    "def getDOI(title): \n",
    "    url = \"http://api.crossref.org/works?\"\n",
    "    a = \"query.author=Wong\"\n",
    "    title.replace(\" \", \"+\")\n",
    "    t = \"&query.title=\" + title\n",
    "    query = url + a + t \n",
    "    r = requests.get(query)\n",
    "    j = json.loads(r.text)\n",
    "    doi = j[\"message\"][\"items\"][0][\"DOI\"]\n",
    "    return doi"
   ]
  },
  {
   "cell_type": "markdown",
   "metadata": {
    "slideshow": {
     "slide_type": "subslide"
    }
   },
   "source": [
    "### doi2bib\n",
    "\n",
    "doi2bib takes a doi and returns the item's metadata as bibtex. I used [Joshua Ryan Smith's gist](https://gist.github.com/jrsmith3/5513926) for this function. \n"
   ]
  },
  {
   "cell_type": "code",
   "execution_count": 30,
   "metadata": {
    "collapsed": false
   },
   "outputs": [],
   "source": [
    "###  from https://gist.github.com/jrsmith3/5513926 \n",
    "\n",
    "def doi2bib(doi):\n",
    "    url = \"http://dx.doi.org/\" + doi\n",
    "    headers = {\"accept\": \"application/x-bibtex\"}\n",
    "    r = requests.get(url, headers = headers)\n",
    "    return r.text"
   ]
  },
  {
   "cell_type": "markdown",
   "metadata": {
    "slideshow": {
     "slide_type": "slide"
    }
   },
   "source": [
    "### Let's do some work! "
   ]
  },
  {
   "cell_type": "markdown",
   "metadata": {
    "slideshow": {
     "slide_type": "subslide"
    }
   },
   "source": [
    "### Let's load the xml file we have "
   ]
  },
  {
   "cell_type": "code",
   "execution_count": 31,
   "metadata": {
    "collapsed": false
   },
   "outputs": [],
   "source": [
    "### note the file must be in the same folder as this notebook \n",
    "with open(\"WongJY_NCBI.xml\") as f: \n",
    "    doc = xmltodict.parse(f.read())"
   ]
  },
  {
   "cell_type": "markdown",
   "metadata": {
    "slideshow": {
     "slide_type": "subslide"
    }
   },
   "source": [
    "### Alright, now we can loop through our xml and:\n",
    "\n",
    "+ find the title for the current item \n",
    "+ get the doi using getDOI  \n",
    "+ get the bibtex data using doi2bib \n",
    "+ open a file \"wong.bib\" and append our bibtex data\n"
   ]
  },
  {
   "cell_type": "code",
   "execution_count": 21,
   "metadata": {
    "collapsed": false,
    "scrolled": true,
    "slideshow": {
     "slide_type": "subslide"
    }
   },
   "outputs": [],
   "source": [
    "for item in doc[\"DocumentSummarySet\"][\"DocumentSummary\"]:\n",
    "    title = item['Item'][\"Title\"]   \n",
    "    doi = getDOI(title)\n",
    "    bibtex = doi2bib(doi)\n",
    "    with open(\"wong.bib\", \"a\") as myfile:\n",
    "        myfile.write(bibtex)\n",
    "  "
   ]
  },
  {
   "cell_type": "markdown",
   "metadata": {
    "slideshow": {
     "slide_type": "slide"
    }
   },
   "source": [
    "### Let's check our work \n",
    "\n",
    "A little unix here but the gist is I'm counting the number of \"@\" in \"wong.bib\"\n"
   ]
  },
  {
   "cell_type": "code",
   "execution_count": 32,
   "metadata": {
    "collapsed": false
   },
   "outputs": [
    {
     "name": "stdout",
     "output_type": "stream",
     "text": [
      "     186\n"
     ]
    }
   ],
   "source": [
    "%%bash \n",
    "grep -o \"@\" wong.bib | wc -l"
   ]
  },
  {
   "cell_type": "markdown",
   "metadata": {
    "slideshow": {
     "slide_type": "slide"
    }
   },
   "source": [
    "## Thank you : ) "
   ]
  },
  {
   "cell_type": "code",
   "execution_count": 29,
   "metadata": {
    "collapsed": true,
    "slideshow": {
     "slide_type": "skip"
    }
   },
   "outputs": [],
   "source": [
    "#\n",
    "# Things to ignore below!!!\n",
    "#\n",
    "# aka - these are not part of the presenation but format the presentation "
   ]
  },
  {
   "cell_type": "code",
   "execution_count": 23,
   "metadata": {
    "collapsed": false,
    "slideshow": {
     "slide_type": "skip"
    }
   },
   "outputs": [
    {
     "data": {
      "text/html": [
       "<style>\n",
       "    body.rise-enabled:after {\n",
       "      content: url(pres/bu-library-logo.svg);\n",
       "      position: fixed;\n",
       "      bottom: 3.5em;\n",
       "      left: 3.5em; \n",
       "    } \n",
       "    .fa-4x {\n",
       "        font-size: 2em;\n",
       "    }\n",
       "    #help_b, #help_b:before {\n",
       "        position: fixed;\n",
       "        top: 0.5em !important;\n",
       "        right: 0.6em !important;\n",
       "        opacity: 0.6;\n",
       "    }\n",
       "    .rise-enabled .reveal .slide-number{\n",
       "        display: none; \n",
       "    }\n",
       "</style> "
      ],
      "text/plain": [
       "<IPython.core.display.HTML object>"
      ]
     },
     "metadata": {},
     "output_type": "display_data"
    }
   ],
   "source": [
    "%%html\n",
    "<style>\n",
    "    body.rise-enabled:after {\n",
    "      content: url(pres/bu-library-logo.svg);\n",
    "      position: fixed;\n",
    "      bottom: 3.5em;\n",
    "      left: 3.5em; \n",
    "    } \n",
    "    .fa-4x {\n",
    "        font-size: 2em;\n",
    "    }\n",
    "    #help_b, #help_b:before {\n",
    "        position: fixed;\n",
    "        top: 0.5em !important;\n",
    "        right: 0.6em !important;\n",
    "        opacity: 0.6;\n",
    "    }\n",
    "    .rise-enabled .reveal .slide-number{\n",
    "        display: none; \n",
    "    }\n",
    "</style> "
   ]
  }
 ],
 "metadata": {
  "celltoolbar": "Slideshow",
  "kernelspec": {
   "display_name": "Python 3",
   "language": "python",
   "name": "python3"
  },
  "language_info": {
   "codemirror_mode": {
    "name": "ipython",
    "version": 3
   },
   "file_extension": ".py",
   "mimetype": "text/x-python",
   "name": "python",
   "nbconvert_exporter": "python",
   "pygments_lexer": "ipython3",
   "version": "3.5.2"
  }
 },
 "nbformat": 4,
 "nbformat_minor": 0
}
