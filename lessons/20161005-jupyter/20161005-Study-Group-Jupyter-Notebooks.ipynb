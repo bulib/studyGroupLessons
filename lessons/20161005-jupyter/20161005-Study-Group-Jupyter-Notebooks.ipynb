{
 "cells": [
  {
   "cell_type": "markdown",
   "metadata": {
    "slideshow": {
     "slide_type": "slide"
    }
   },
   "source": [
    "# Jupyter Notebooks \n",
    "by Tom Hohenstein \n",
    "\n",
    "\n",
    "Feel free to try jupyter while we talk\n",
    "\n",
    "https://try.jupyter.org/ \n"
   ]
  },
  {
   "cell_type": "markdown",
   "metadata": {
    "slideshow": {
     "slide_type": "slide"
    }
   },
   "source": [
    "## Background \n",
    "\n",
    "+ Started as IPython Notebook under Fernando Pérez \n",
    "+ Jupyter launched in 2014 as a continuation of the IPython Project \n",
    "+ Sponsored by the Sloan Foundation, Moore Foundation, Google, Microsoft, Rackspace, and few institutions (UC-Berkley and CalPoly) \n",
    "+ [Kernels for 40 other languages](https://github.com/ipython/ipython/wiki/IPython-kernels-for-other-languages)"
   ]
  },
  {
   "cell_type": "markdown",
   "metadata": {
    "slideshow": {
     "slide_type": "slide"
    }
   },
   "source": [
    "## Capabilities \n",
    "What can we do with a Jupyter Notebook? "
   ]
  },
  {
   "cell_type": "code",
   "execution_count": 30,
   "metadata": {
    "collapsed": false,
    "slideshow": {
     "slide_type": "subslide"
    }
   },
   "outputs": [
    {
     "name": "stdout",
     "output_type": "stream",
     "text": [
      "a\n",
      "b\n",
      "c\n",
      "d\n"
     ]
    }
   ],
   "source": [
    "# code \n",
    "\n",
    "for x in \"abcd\": \n",
    "    print(x)\n"
   ]
  },
  {
   "cell_type": "code",
   "execution_count": 32,
   "metadata": {
    "collapsed": false
   },
   "outputs": [
    {
     "name": "stdout",
     "output_type": "stream",
     "text": [
      "2016-survey/\n",
      "CS132-Geometric-Algorithms-master/\n",
      "Funding/\n",
      "LOC Batch Image Project/\n",
      "Michelle Cheng/\n",
      "NCBItoBIBTEX/\n",
      "SEL-botj-loans-2015/\n",
      "ScriptedPrimoSearchAssessmentTool/\n",
      "Study Group .ipynb\n",
      "Untitled.ipynb\n",
      "bu-libguide-links/\n",
      "data-carpentry/\n",
      "dmptool/\n",
      "dmptool-harvest/\n",
      "esci-wordclouds/\n",
      "googleAnalytics/\n",
      "headcount/\n",
      "jupyter/\n",
      "nh-wordcounts/\n",
      "playpen/\n",
      "postdoc project/\n"
     ]
    }
   ],
   "source": [
    "%%bash \n",
    "\n",
    "ls -F"
   ]
  },
  {
   "cell_type": "markdown",
   "metadata": {
    "slideshow": {
     "slide_type": "subslide"
    }
   },
   "source": [
    "Write Markdown \n",
    "+ List 1\n",
    "+ List 2 "
   ]
  },
  {
   "cell_type": "markdown",
   "metadata": {
    "slideshow": {
     "slide_type": "subslide"
    }
   },
   "source": [
    "![\"Jupiter\"](http://svs.gsfc.nasa.gov/vis/a010000/a012000/a012021/JupiterThumbnailSmall.png)"
   ]
  },
  {
   "cell_type": "code",
   "execution_count": 19,
   "metadata": {
    "collapsed": false,
    "slideshow": {
     "slide_type": "subslide"
    }
   },
   "outputs": [
    {
     "data": {
      "text/html": [
       "<iframe width=\"560\" height=\"315\" src=\"https://www.youtube.com/embed/JxNqXzXfL1U\" frameborder=\"0\" allowfullscreen></iframe>"
      ],
      "text/plain": [
       "<IPython.core.display.HTML object>"
      ]
     },
     "execution_count": 19,
     "metadata": {},
     "output_type": "execute_result"
    }
   ],
   "source": [
    "from IPython.display import HTML\n",
    "\n",
    "# Youtube - from http://www.polyphant.com/2016/05/10/jupyter-video.html\n",
    "HTML('<iframe width=\"560\" height=\"315\" src=\"https://www.youtube.com/embed/JxNqXzXfL1U\" frameborder=\"0\" allowfullscreen></iframe>')\n"
   ]
  },
  {
   "cell_type": "code",
   "execution_count": 20,
   "metadata": {
    "collapsed": false,
    "slideshow": {
     "slide_type": "subslide"
    }
   },
   "outputs": [
    {
     "data": {
      "text/html": [
       "\n",
       "                <audio controls=\"controls\" >\n",
       "                    <source src=\"https://ccrma.stanford.edu/~urinieto/drop/090412-Incendios.mp3\" type=\"audio/mpeg\" />\n",
       "                    Your browser does not support the audio element.\n",
       "                </audio>\n",
       "              "
      ],
      "text/plain": [
       "<IPython.lib.display.Audio object>"
      ]
     },
     "metadata": {},
     "output_type": "display_data"
    }
   ],
   "source": [
    "# audio \n",
    "import IPython\n",
    "IPython.display.display(IPython.display.Audio(url=\"https://ccrma.stanford.edu/~urinieto/drop/090412-Incendios.mp3\"))\n",
    "# from http://stackoverflow.com/questions/33048353/more-than-one-audio-object-in-a-jupyter-ipython-notebook-cell"
   ]
  },
  {
   "cell_type": "code",
   "execution_count": 21,
   "metadata": {
    "collapsed": false
   },
   "outputs": [
    {
     "data": {
      "text/html": [
       "<iframe width=\"1000\" height=\"315\" src=\"https://www.bu.edu/library\" frameborder=\"0\" allowfullscreen></iframe>"
      ],
      "text/plain": [
       "<IPython.core.display.HTML object>"
      ]
     },
     "execution_count": 21,
     "metadata": {},
     "output_type": "execute_result"
    }
   ],
   "source": [
    "HTML('<iframe width=\"1000\" height=\"315\" src=\"https://www.bu.edu/library\" frameborder=\"0\" allowfullscreen></iframe>')\n"
   ]
  },
  {
   "cell_type": "code",
   "execution_count": 24,
   "metadata": {
    "collapsed": false,
    "slideshow": {
     "slide_type": "subslide"
    }
   },
   "outputs": [],
   "source": [
    "#\n",
    "# requires some additional help \n",
    "# https://github.com/ellisonbg/ipyleaflet\n",
    "\n",
    "from ipyleaflet import Map\n",
    "\n",
    "Map(center=[34.6252978589571, -77.34580993652344], zoom=10)"
   ]
  },
  {
   "cell_type": "code",
   "execution_count": 25,
   "metadata": {
    "collapsed": true,
    "slideshow": {
     "slide_type": "subslide"
    }
   },
   "outputs": [],
   "source": [
    "# http://jupyter.org/widgets.html\n",
    "import numpy as np\n",
    "import bqplot.pyplot as plt\n",
    "\n",
    "size = 100\n",
    "\n",
    "plt.figure(title='Scatter plot with colors')\n",
    "plt.scatter(np.random.randn(size), np.random.randn(size), color=np.random.randn(size))\n",
    "plt.show()"
   ]
  },
  {
   "cell_type": "markdown",
   "metadata": {
    "slideshow": {
     "slide_type": "subslide"
    }
   },
   "source": [
    "You can also do 3-d with [pythreejs](http://jupyter.org/widgets.html)"
   ]
  },
  {
   "cell_type": "code",
   "execution_count": 26,
   "metadata": {
    "collapsed": false,
    "slideshow": {
     "slide_type": "subslide"
    }
   },
   "outputs": [
    {
     "data": {
      "text/html": [
       "<iframe id=\"igraph\" scrolling=\"no\" style=\"border:none;\" seamless=\"seamless\" src=\"https://plot.ly/~sirtah/71.embed\" height=\"525px\" width=\"100%\"></iframe>"
      ],
      "text/plain": [
       "<plotly.tools.PlotlyDisplay object>"
      ]
     },
     "execution_count": 26,
     "metadata": {},
     "output_type": "execute_result"
    }
   ],
   "source": [
    "# plot.ly https://plot.ly/ipython-notebooks/\n",
    "\n",
    "import plotly.plotly as py\n",
    "from plotly.graph_objs import *\n",
    "\n",
    "trace0 = Scatter(\n",
    "  x=[1, 2, 3, 4],\n",
    "  y=[10, 15, 13, 17]\n",
    ")\n",
    "trace1 = Scatter(\n",
    "  x=[1, 2, 3, 4],\n",
    "  y=[16, 5, 11, 9]\n",
    ")\n",
    "data = Data([trace0, trace1])\n",
    "\n",
    "py.iplot(data, filename = 'basic-line')"
   ]
  },
  {
   "cell_type": "markdown",
   "metadata": {
    "slideshow": {
     "slide_type": "subslide"
    }
   },
   "source": [
    "Other things ... \n",
    "+ Cover menu options \n",
    "+ cover buttons \n",
    "+ Cover download as\n",
    "+ [GitHub rendering](https://github.com/mcrovella/CS505-Computational-Tools-for-Data-Science/blob/master/1-Intro-to-Python.ipynb)\n",
    "\n",
    "[More Examples!](http://nb.bianp.net/sort/views/)\n",
    "\n",
    "[Extensions](http://jupyter-contrib-nbextensions.readthedocs.io/en/latest/)"
   ]
  },
  {
   "cell_type": "markdown",
   "metadata": {
    "slideshow": {
     "slide_type": "slide"
    }
   },
   "source": [
    "## Thoughts, comments, additions... "
   ]
  }
 ],
 "metadata": {
  "celltoolbar": "Slideshow",
  "kernelspec": {
   "display_name": "Python 3",
   "language": "python",
   "name": "python3"
  },
  "language_info": {
   "codemirror_mode": {
    "name": "ipython",
    "version": 3
   },
   "file_extension": ".py",
   "mimetype": "text/x-python",
   "name": "python",
   "nbconvert_exporter": "python",
   "pygments_lexer": "ipython3",
   "version": "3.5.2"
  },
  "widgets": {
   "state": {
    "54e6c4719ae04de2828e5dffec70ea64": {
     "views": [
      {
       "cell_index": 10
      }
     ]
    },
    "eb0b82f613964c36bff5e7dc0326001f": {
     "views": [
      {
       "cell_index": 9
      }
     ]
    }
   },
   "version": "1.2.0"
  }
 },
 "nbformat": 4,
 "nbformat_minor": 0
}
